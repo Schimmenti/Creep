{
 "cells": [
  {
   "cell_type": "code",
   "execution_count": 12,
   "metadata": {},
   "outputs": [],
   "source": [
    "import numpy as np\n",
    "import matplotlib.pyplot as plt\n",
    "import pickle\n",
    "import numpy.fft as fft\n",
    "from numba import jit\n",
    "import scipy.stats as stats"
   ]
  },
  {
   "cell_type": "code",
   "execution_count": 4,
   "metadata": {},
   "outputs": [],
   "source": [
    "filename = \"interface0.14.pkl\"\n",
    "with open(filename, 'rb') as f:\n",
    "    interface_dict, x_dict, y_dict, t_dict = pickle.load(f)"
   ]
  },
  {
   "cell_type": "code",
   "execution_count": 5,
   "metadata": {},
   "outputs": [],
   "source": [
    "n_times = len(list(interface_dict.keys()))\n",
    "interface = np.zeros((n_times, len(interface_dict[0])))\n",
    "for t, h in interface_dict.items():\n",
    "    interface[t,:] = h\n",
    "start_from = np.argwhere((interface==0).sum(axis=1)>0).flatten()[-1]\n",
    "interface = interface[start_from+1:]"
   ]
  },
  {
   "cell_type": "code",
   "execution_count": 6,
   "metadata": {},
   "outputs": [],
   "source": [
    "r_mean = np.array([ np.mean(interface_dict[key])  for key in interface_dict])\n",
    "r_std = np.array([ np.std(interface_dict[key])  for key in interface_dict])"
   ]
  },
  {
   "cell_type": "code",
   "execution_count": 7,
   "metadata": {},
   "outputs": [],
   "source": [
    "def compute_velocity(h):\n",
    "    V = []\n",
    "    min_length = h.shape[0]\n",
    "    for idx in range(h.shape[1]):\n",
    "        dh = np.diff(h[:,idx])\n",
    "        jump_times = np.argwhere(dh>0).flatten()\n",
    "        jumps = dh[jump_times]\n",
    "        waiting_times = np.diff(np.insert(jump_times,0,0))\n",
    "        velocities = jumps/(waiting_times+1)\n",
    "        v = np.repeat(velocities,waiting_times )\n",
    "        if(len(v)<min_length):\n",
    "            min_length = len(v)\n",
    "        V.append(v)\n",
    "    vel = np.zeros((len(V), min_length))\n",
    "    for idx in range(len(V)):\n",
    "        vel[idx,:] = V[idx][:min_length]\n",
    "    return vel"
   ]
  },
  {
   "cell_type": "code",
   "execution_count": 8,
   "metadata": {},
   "outputs": [],
   "source": [
    "v_h = compute_velocity(interface)"
   ]
  },
  {
   "cell_type": "code",
   "execution_count": 21,
   "metadata": {},
   "outputs": [],
   "source": [
    "c_t = fft.ifft(np.abs( fft.fft(v_h-v_h.mean(axis=1).reshape(-1,1), axis=1))**2, axis=1).real.mean(axis=0)\n",
    "c_t = c_t[:len(c_t)//2]\n",
    "c_th = fft.ifft(np.abs( fft.fft(v_h-v_h.mean(axis=0), axis=0))**2, axis=0).real.mean(axis=1)\n",
    "c_th = c_th[:len(c_th)//2]"
   ]
  },
  {
   "cell_type": "code",
   "execution_count": 28,
   "metadata": {},
   "outputs": [
    {
     "name": "stdout",
     "output_type": "stream",
     "text": [
      "111.5033353895094\n"
     ]
    },
    {
     "data": {
      "image/png": "[encoded data removed]",
      "text/plain": [
       "<Figure size 432x288 with 1 Axes>"
      ]
     },
     "metadata": {
      "needs_background": "light"
     },
     "output_type": "display_data"
    }
   ],
   "source": [
    "plt.plot(c_t[:220])\n",
    "res = stats.linregress(np.arange(100,220),np.log(c_t[100:220]))\n",
    "print(-1/res[0])\n",
    "plt.yscale('log')\n",
    "plt.xscale('log')"
   ]
  },
  {
   "cell_type": "code",
   "execution_count": 31,
   "metadata": {},
   "outputs": [
    {
     "data": {
      "image/png": "[encoded data removed]",
      "text/plain": [
       "<Figure size 432x288 with 1 Axes>"
      ]
     },
     "metadata": {
      "needs_background": "light"
     },
     "output_type": "display_data"
    }
   ],
   "source": [
    "plt.plot(c_th[:20])\n",
    "plt.yscale('log')"
   ]
  }
 ],
 "metadata": {
  "kernelspec": {
   "display_name": "Python 3",
   "language": "python",
   "name": "python3"
  },
  "language_info": {
   "codemirror_mode": {
    "name": "ipython",
    "version": 3
   },
   "file_extension": ".py",
   "mimetype": "text/x-python",
   "name": "python",
   "nbconvert_exporter": "python",
   "pygments_lexer": "ipython3",
   "version": "3.8.5"
  }
 },
 "nbformat": 4,
 "nbformat_minor": 2
}
