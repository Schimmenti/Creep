{
 "cells": [
  {
   "cell_type": "code",
   "execution_count": 33,
   "metadata": {},
   "outputs": [],
   "source": [
    "import numpy as np\n",
    "import matplotlib.pyplot as plt\n",
    "import pickle\n",
    "import numpy.fft as fft\n",
    "from numba import jit"
   ]
  },
  {
   "cell_type": "code",
   "execution_count": 24,
   "metadata": {},
   "outputs": [],
   "source": [
    "filename = \"interface0.14.pkl\"\n",
    "with open(filename, 'rb') as f:\n",
    "    interface_dict = pickle.load(f)"
   ]
  },
  {
   "cell_type": "code",
   "execution_count": 50,
   "metadata": {},
   "outputs": [],
   "source": [
    "n_times = len(list(interface_dict.keys()))\n",
    "interface = np.zeros((n_times, len(interface_dict[0])))\n",
    "for t, h in interface_dict.items():\n",
    "    interface[t,:] = h\n",
    "start_from = np.argwhere((interface==0).sum(axis=1)>0).flatten()[-1]\n",
    "interface = interface[start_from+1:]"
   ]
  },
  {
   "cell_type": "code",
   "execution_count": 25,
   "metadata": {},
   "outputs": [],
   "source": [
    "r_mean = np.array([ np.mean(interface_dict[key])  for key in interface_dict])\n",
    "r_std = np.array([ np.std(interface_dict[key])  for key in interface_dict])"
   ]
  },
  {
   "cell_type": "code",
   "execution_count": 102,
   "metadata": {},
   "outputs": [],
   "source": [
    "def compute_velocity(h):\n",
    "    V = []\n",
    "    min_length = h.shape[0]\n",
    "    for idx in range(h.shape[1]):\n",
    "        dh = np.diff(h[:,idx])\n",
    "        jump_times = np.argwhere(dh>0).flatten()\n",
    "        jumps = dh[jump_times]\n",
    "        waiting_times = np.diff(np.insert(jump_times,0,0))\n",
    "        velocities = jumps/(waiting_times+1)\n",
    "        v = np.repeat(velocities,waiting_times )\n",
    "        if(len(v)<min_length):\n",
    "            min_length = len(v)\n",
    "        V.append(v)\n",
    "    vel = np.zeros((len(V), min_length))\n",
    "    for idx in range(len(V)):\n",
    "        vel[idx,:] = V[idx][:min_length]\n",
    "    return vel"
   ]
  },
  {
   "cell_type": "code",
   "execution_count": 103,
   "metadata": {},
   "outputs": [],
   "source": [
    "v_h = compute_velocity(interface)"
   ]
  },
  {
   "cell_type": "code",
   "execution_count": 105,
   "metadata": {},
   "outputs": [
    {
     "data": {
      "text/plain": [
       "(700, 54551)"
      ]
     },
     "execution_count": 105,
     "metadata": {},
     "output_type": "execute_result"
    }
   ],
   "source": []
  }
 ],
 "metadata": {
  "kernelspec": {
   "display_name": "Python 3",
   "language": "python",
   "name": "python3"
  },
  "language_info": {
   "codemirror_mode": {
    "name": "ipython",
    "version": 3
   },
   "file_extension": ".py",
   "mimetype": "text/x-python",
   "name": "python",
   "nbconvert_exporter": "python",
   "pygments_lexer": "ipython3",
   "version": "3.8.5"
  }
 },
 "nbformat": 4,
 "nbformat_minor": 2
}
